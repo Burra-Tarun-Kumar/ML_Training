{
  "nbformat": 4,
  "nbformat_minor": 0,
  "metadata": {
    "colab": {
      "provenance": [],
      "authorship_tag": "ABX9TyMjkeG+TEhLDYacO2zikJGp",
      "include_colab_link": true
    },
    "kernelspec": {
      "name": "python3",
      "display_name": "Python 3"
    },
    "language_info": {
      "name": "python"
    }
  },
  "cells": [
    {
      "cell_type": "markdown",
      "metadata": {
        "id": "view-in-github",
        "colab_type": "text"
      },
      "source": [
        "<a href=\"https://colab.research.google.com/github/Burra-Tarun-Kumar/ML_Training/blob/main/normalization.ipynb\" target=\"_parent\"><img src=\"https://colab.research.google.com/assets/colab-badge.svg\" alt=\"Open In Colab\"/></a>"
      ]
    },
    {
      "cell_type": "code",
      "execution_count": 3,
      "metadata": {
        "colab": {
          "base_uri": "https://localhost:8080/"
        },
        "id": "6UaQIVpwSd3D",
        "outputId": "8919a1da-7830-47b3-863e-17cf30ccc1f6"
      },
      "outputs": [
        {
          "output_type": "stream",
          "name": "stdout",
          "text": [
            "\n",
            " normalized dataframe:(Scaled to range [0,1]): \n",
            "        age    height    weight\n",
            "0  0.000000  0.000000  0.000000\n",
            "1  0.333333  0.333333  0.333333\n",
            "2  0.666667  0.666667  0.666667\n",
            "3  1.000000  1.000000  1.000000\n"
          ]
        }
      ],
      "source": [
        "import pandas as pd\n",
        "from sklearn.preprocessing import MinMaxScaler\n",
        "data = {\n",
        "    \"age\": [ 25,30,35,40],\n",
        "    \"height\": [150,160,170,180],\n",
        "     \"weight\":[50,60,70,80]\n",
        "}\n",
        "df=pd.DataFrame(data)\n",
        "MinMaxScaler = MinMaxScaler()\n",
        "normalised_df=pd.DataFrame(MinMaxScaler.fit_transform(df),columns=df.columns)\n",
        "print(\"\\n normalized dataframe:(Scaled to range [0,1]): \")\n",
        "print(normalised_df)\n"
      ]
    },
    {
      "cell_type": "code",
      "source": [],
      "metadata": {
        "id": "ZZtZBW3OTzfE"
      },
      "execution_count": null,
      "outputs": []
    }
  ]
}