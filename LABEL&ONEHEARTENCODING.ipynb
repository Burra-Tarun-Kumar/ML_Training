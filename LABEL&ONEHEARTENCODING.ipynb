{
  "nbformat": 4,
  "nbformat_minor": 0,
  "metadata": {
    "colab": {
      "provenance": [],
      "authorship_tag": "ABX9TyMT5t0aDOMzOk+1Ar+rcA8Q",
      "include_colab_link": true
    },
    "kernelspec": {
      "name": "python3",
      "display_name": "Python 3"
    },
    "language_info": {
      "name": "python"
    }
  },
  "cells": [
    {
      "cell_type": "markdown",
      "metadata": {
        "id": "view-in-github",
        "colab_type": "text"
      },
      "source": [
        "<a href=\"https://colab.research.google.com/github/Burra-Tarun-Kumar/ML_Training/blob/main/LABEL%26ONEHEARTENCODING.ipynb\" target=\"_parent\"><img src=\"https://colab.research.google.com/assets/colab-badge.svg\" alt=\"Open In Colab\"/></a>"
      ]
    },
    {
      "cell_type": "code",
      "execution_count": 3,
      "metadata": {
        "colab": {
          "base_uri": "https://localhost:8080/"
        },
        "id": "pO6-SXQQXFbJ",
        "outputId": "ac57629d-4e85-40f4-f670-baf4fadf5c81"
      },
      "outputs": [
        {
          "output_type": "stream",
          "name": "stdout",
          "text": [
            "Original dat: \n",
            "   customer_id gender  age subscription_status\n",
            "0            1      F   25                   I\n",
            "1            2      M   30                   A\n",
            "2            3      M   35                   I\n",
            "3            4      F   40                   A\n",
            "Encoded data: \n",
            "   customer_id gender  age  subscription_status  gender_encoded\n",
            "0            1      F   25                    1               0\n",
            "1            2      M   30                    0               1\n",
            "2            3      M   35                    1               1\n",
            "3            4      F   40                    0               0\n"
          ]
        }
      ],
      "source": [
        "import pandas as pd\n",
        "from sklearn import preprocessing\n",
        "from sklearn.preprocessing import LabelEncoder\n",
        "data={\n",
        "    \"customer_id\":[1,2,3,4],\n",
        "    \"gender\":[\"F\",\"M\",\"M\",\"F\"],\n",
        "    \"age\":[25,30,35,40],\n",
        "    \"subscription_status\":[\"I\",\"A\",\"I\",\"A\"]\n",
        "}\n",
        "df=pd.DataFrame(data)\n",
        "print(\"Original dat: \")\n",
        "print(df)\n",
        "label_encoder=LabelEncoder()\n",
        "df['gender_encoded']=label_encoder.fit_transform(df['gender'])\n",
        "df['subscription_status']=label_encoder.fit_transform(df['subscription_status'])\n",
        "print(\"Encoded data: \")\n",
        "print(df)"
      ]
    },
    {
      "cell_type": "code",
      "source": [
        "import pandas as pd\n",
        "from sklearn import preprocessing\n",
        "from sklearn.preprocessing import LabelEncoder\n",
        "from sklearn.preprocessing import OneHotEncoder\n",
        "data={\n",
        "    \"customer_id\":[1,2,3,4],\n",
        "    \"gender\":[\"F\",\"M\",\"M\",\"F\"],\n",
        "    \"city\":[\"Hyderabad\",\"Pune\",\"Bangalore\",\"Mumbai\"],\n",
        "}\n",
        "df=pd.DataFrame(data)\n",
        "print(\"Original data: \")\n",
        "print(df)\n",
        "one_hot_encoder=OneHotEncoder(sparse_output=False)\n",
        "column_to_encoder=[\"gender\",\"city\"]\n",
        "encoded_data=one_hot_encoder.fit_transform(df[column_to_encoder])\n",
        "encoded_columns=one_hot_encoder.get_feature_names_out(column_to_encoder)\n",
        "encoded_df=pd.DataFrame(encoded_data,columns=encoded_columns)\n",
        "print(encoded_df)"
      ],
      "metadata": {
        "colab": {
          "base_uri": "https://localhost:8080/"
        },
        "id": "wq2eep0LaXgJ",
        "outputId": "1d5f1674-2c45-4a79-9284-a50883da76d8"
      },
      "execution_count": 4,
      "outputs": [
        {
          "output_type": "stream",
          "name": "stdout",
          "text": [
            "Original data: \n",
            "   customer_id gender       city\n",
            "0            1      F  Hyderabad\n",
            "1            2      M       Pune\n",
            "2            3      M  Bangalore\n",
            "3            4      F     Mumbai\n",
            "   gender_F  gender_M  city_Bangalore  city_Hyderabad  city_Mumbai  city_Pune\n",
            "0       1.0       0.0             0.0             1.0          0.0        0.0\n",
            "1       0.0       1.0             0.0             0.0          0.0        1.0\n",
            "2       0.0       1.0             1.0             0.0          0.0        0.0\n",
            "3       1.0       0.0             0.0             0.0          1.0        0.0\n"
          ]
        }
      ]
    },
    {
      "cell_type": "code",
      "source": [],
      "metadata": {
        "id": "ztpk1S2wcDpr"
      },
      "execution_count": null,
      "outputs": []
    }
  ]
}